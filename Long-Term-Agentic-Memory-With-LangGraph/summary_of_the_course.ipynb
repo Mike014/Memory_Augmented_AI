{
 "cells": [
  {
   "cell_type": "markdown",
   "metadata": {},
   "source": [
    "# **Long-term memory in AI agents**\n",
    "\n",
    "## In the context of **AI agents**, **memory** is **divided into three main categories**:\n",
    "\n",
    "1. **Semantic Memory**: concerns **general information and facts**, for example personal preferences or specific details such as \"this user prefers meetings in the afternoon\".\n",
    "\n",
    "2. **Episodic Memory**: refers to **specific experiences**, such as **past conversations**, **previous actions**, or **specific situations faced by the agent**. For example, the precise recall of conversations that took place with the user.\n",
    "\n",
    "3. **Procedural Memory**: represents **instructions or procedures that the agent follows automatically**, similar to human instincts or habits. For an agent, this memory is primarily implemented through the system prompt, which defines how the agent should behave.\n",
    "\n",
    "## **Two main ways** to manage these memories:\n",
    "\n",
    "- **Hot Path:** **Memory updates made in real time**, directly during the agent's interaction with the user.\n",
    "\n",
    "  * **Pros**: simpler, instant update.\n",
    "  * **Cons**: It can **slow down the response time** and create complexity during processing.\n",
    "\n",
    "- **Background Processing:** An update performed in parallel or in the background by a separate agent.\n",
    "\n",
    "  * **Pros**: Clear **separation between memory refresh and interaction**, faster responses.\n",
    "  * **Cons:** more **complex to manage**, possible delay in updates."
   ]
  }
 ],
 "metadata": {
  "kernelspec": {
   "display_name": "ai_env",
   "language": "python",
   "name": "python3"
  },
  "language_info": {
   "name": "python",
   "version": "3.10.16"
  }
 },
 "nbformat": 4,
 "nbformat_minor": 2
}
