{
 "cells": [
  {
   "cell_type": "markdown",
   "metadata": {},
   "source": [
    "# **[Working memory and the need for explainable AI – Scenarios from healthcare, social media and insurance\" di M. Liebherr](https://www.cell.com/heliyon/pdf/S2405-8440(25)00251-8.pdf)**"
   ]
  },
  {
   "cell_type": "markdown",
   "metadata": {},
   "source": [
    "### **Objective of the Paper**\n",
    "To investigate the role of working memory and perceived intelligence in the need for explanations in decisions taken by Explainable AI (XAI) systems."
   ]
  }
 ],
 "metadata": {
  "kernelspec": {
   "display_name": "my_env",
   "language": "python",
   "name": "python3"
  },
  "language_info": {
   "name": "python",
   "version": "3.12.8"
  }
 },
 "nbformat": 4,
 "nbformat_minor": 2
}
